{
 "cells": [
  {
   "cell_type": "markdown",
   "metadata": {},
   "source": [
    "# Decision Tree for p2p lending data"
   ]
  },
  {
   "cell_type": "markdown",
   "metadata": {},
   "source": [
    "Entropy Formula:             $ Entropy(p) = -\\sum_{i=1}^{N}p_{i}\\log_{2}{p_{i}} $  \n",
    "CART Gini Index              $Gini(D)=1-\\sum_{i=1}^{N}p_{i}^{2} $"
   ]
  },
  {
   "cell_type": "code",
   "execution_count": 1,
   "metadata": {},
   "outputs": [],
   "source": [
    "import numpy as np\n",
    "import pandas as pd\n",
    "import matplotlib.pyplot as plt\n",
    "from mpl_toolkits.mplot3d import Axes3D\n",
    "from sklearn import manifold, datasets\n",
    "from sklearn import tree \n",
    "import graphviz \n",
    "from sklearn.metrics import accuracy_score as acc_rate \n",
    "from sklearn.model_selection import train_test_split"
   ]
  },
  {
   "cell_type": "code",
   "execution_count": 2,
   "metadata": {},
   "outputs": [],
   "source": [
    "p2p_data = pd.read_csv('./p2p.csv', index_col=0)"
   ]
  },
  {
   "cell_type": "code",
   "execution_count": 3,
   "metadata": {},
   "outputs": [
    {
     "data": {
      "text/html": [
       "<div>\n",
       "<style scoped>\n",
       "    .dataframe tbody tr th:only-of-type {\n",
       "        vertical-align: middle;\n",
       "    }\n",
       "\n",
       "    .dataframe tbody tr th {\n",
       "        vertical-align: top;\n",
       "    }\n",
       "\n",
       "    .dataframe thead th {\n",
       "        text-align: right;\n",
       "    }\n",
       "</style>\n",
       "<table border=\"1\" class=\"dataframe\">\n",
       "  <thead>\n",
       "    <tr style=\"text-align: right;\">\n",
       "      <th></th>\n",
       "      <th>ratio001</th>\n",
       "      <th>ratio002</th>\n",
       "      <th>ratio003</th>\n",
       "      <th>ratio004</th>\n",
       "      <th>ratio005</th>\n",
       "      <th>ratio006</th>\n",
       "      <th>ratio008</th>\n",
       "      <th>ratio011</th>\n",
       "      <th>ratio012</th>\n",
       "      <th>ratio017</th>\n",
       "      <th>...</th>\n",
       "      <th>DIO</th>\n",
       "      <th>DPO</th>\n",
       "      <th>DSO</th>\n",
       "      <th>turnover</th>\n",
       "      <th>status</th>\n",
       "      <th>nace</th>\n",
       "      <th>ratio036</th>\n",
       "      <th>ratio037</th>\n",
       "      <th>ratio039</th>\n",
       "      <th>ratio040</th>\n",
       "    </tr>\n",
       "  </thead>\n",
       "  <tbody>\n",
       "    <tr>\n",
       "      <th>1</th>\n",
       "      <td>-0.238174</td>\n",
       "      <td>-0.155186</td>\n",
       "      <td>-0.124784</td>\n",
       "      <td>-0.422984</td>\n",
       "      <td>-0.441998</td>\n",
       "      <td>-0.281685</td>\n",
       "      <td>-0.476657</td>\n",
       "      <td>-3.467956</td>\n",
       "      <td>-3.405227</td>\n",
       "      <td>-1.297426</td>\n",
       "      <td>...</td>\n",
       "      <td>-0.297901</td>\n",
       "      <td>-0.462928</td>\n",
       "      <td>-0.722769</td>\n",
       "      <td>-0.381662</td>\n",
       "      <td>1</td>\n",
       "      <td>4635</td>\n",
       "      <td>1</td>\n",
       "      <td>1</td>\n",
       "      <td>1</td>\n",
       "      <td>1</td>\n",
       "    </tr>\n",
       "    <tr>\n",
       "      <th>2</th>\n",
       "      <td>-0.758472</td>\n",
       "      <td>-0.356497</td>\n",
       "      <td>-0.659060</td>\n",
       "      <td>-0.076745</td>\n",
       "      <td>0.260873</td>\n",
       "      <td>-0.515998</td>\n",
       "      <td>-1.119889</td>\n",
       "      <td>1.754630</td>\n",
       "      <td>0.921839</td>\n",
       "      <td>4.328932</td>\n",
       "      <td>...</td>\n",
       "      <td>-0.317154</td>\n",
       "      <td>-0.279493</td>\n",
       "      <td>-0.198444</td>\n",
       "      <td>4.591706</td>\n",
       "      <td>1</td>\n",
       "      <td>4791</td>\n",
       "      <td>1</td>\n",
       "      <td>1</td>\n",
       "      <td>1</td>\n",
       "      <td>1</td>\n",
       "    </tr>\n",
       "    <tr>\n",
       "      <th>3</th>\n",
       "      <td>-0.333616</td>\n",
       "      <td>-0.207378</td>\n",
       "      <td>0.508892</td>\n",
       "      <td>-0.263181</td>\n",
       "      <td>-0.496910</td>\n",
       "      <td>-0.276421</td>\n",
       "      <td>-0.372174</td>\n",
       "      <td>-0.547247</td>\n",
       "      <td>-0.088445</td>\n",
       "      <td>1.102322</td>\n",
       "      <td>...</td>\n",
       "      <td>-0.224098</td>\n",
       "      <td>-0.268703</td>\n",
       "      <td>-0.603186</td>\n",
       "      <td>0.408384</td>\n",
       "      <td>1</td>\n",
       "      <td>4752</td>\n",
       "      <td>1</td>\n",
       "      <td>1</td>\n",
       "      <td>1</td>\n",
       "      <td>1</td>\n",
       "    </tr>\n",
       "    <tr>\n",
       "      <th>4</th>\n",
       "      <td>-0.444811</td>\n",
       "      <td>-0.478278</td>\n",
       "      <td>-1.056660</td>\n",
       "      <td>0.145204</td>\n",
       "      <td>-0.255298</td>\n",
       "      <td>-0.239247</td>\n",
       "      <td>-0.424368</td>\n",
       "      <td>-3.467956</td>\n",
       "      <td>0.064050</td>\n",
       "      <td>1.449654</td>\n",
       "      <td>...</td>\n",
       "      <td>-0.166338</td>\n",
       "      <td>-0.398186</td>\n",
       "      <td>-0.685974</td>\n",
       "      <td>0.094786</td>\n",
       "      <td>1</td>\n",
       "      <td>4771</td>\n",
       "      <td>1</td>\n",
       "      <td>1</td>\n",
       "      <td>1</td>\n",
       "      <td>1</td>\n",
       "    </tr>\n",
       "    <tr>\n",
       "      <th>5</th>\n",
       "      <td>-0.479096</td>\n",
       "      <td>-0.523014</td>\n",
       "      <td>-1.156061</td>\n",
       "      <td>-0.902393</td>\n",
       "      <td>-0.749504</td>\n",
       "      <td>-0.371168</td>\n",
       "      <td>-0.400809</td>\n",
       "      <td>1.754630</td>\n",
       "      <td>-0.107507</td>\n",
       "      <td>0.039276</td>\n",
       "      <td>...</td>\n",
       "      <td>-0.320363</td>\n",
       "      <td>-0.160800</td>\n",
       "      <td>0.638637</td>\n",
       "      <td>0.040900</td>\n",
       "      <td>1</td>\n",
       "      <td>3212</td>\n",
       "      <td>1</td>\n",
       "      <td>1</td>\n",
       "      <td>1</td>\n",
       "      <td>1</td>\n",
       "    </tr>\n",
       "  </tbody>\n",
       "</table>\n",
       "<p>5 rows × 25 columns</p>\n",
       "</div>"
      ],
      "text/plain": [
       "   ratio001  ratio002  ratio003  ratio004  ratio005  ratio006  ratio008  \\\n",
       "1 -0.238174 -0.155186 -0.124784 -0.422984 -0.441998 -0.281685 -0.476657   \n",
       "2 -0.758472 -0.356497 -0.659060 -0.076745  0.260873 -0.515998 -1.119889   \n",
       "3 -0.333616 -0.207378  0.508892 -0.263181 -0.496910 -0.276421 -0.372174   \n",
       "4 -0.444811 -0.478278 -1.056660  0.145204 -0.255298 -0.239247 -0.424368   \n",
       "5 -0.479096 -0.523014 -1.156061 -0.902393 -0.749504 -0.371168 -0.400809   \n",
       "\n",
       "   ratio011  ratio012  ratio017  ...       DIO       DPO       DSO  turnover  \\\n",
       "1 -3.467956 -3.405227 -1.297426  ... -0.297901 -0.462928 -0.722769 -0.381662   \n",
       "2  1.754630  0.921839  4.328932  ... -0.317154 -0.279493 -0.198444  4.591706   \n",
       "3 -0.547247 -0.088445  1.102322  ... -0.224098 -0.268703 -0.603186  0.408384   \n",
       "4 -3.467956  0.064050  1.449654  ... -0.166338 -0.398186 -0.685974  0.094786   \n",
       "5  1.754630 -0.107507  0.039276  ... -0.320363 -0.160800  0.638637  0.040900   \n",
       "\n",
       "   status  nace  ratio036  ratio037  ratio039  ratio040  \n",
       "1       1  4635         1         1         1         1  \n",
       "2       1  4791         1         1         1         1  \n",
       "3       1  4752         1         1         1         1  \n",
       "4       1  4771         1         1         1         1  \n",
       "5       1  3212         1         1         1         1  \n",
       "\n",
       "[5 rows x 25 columns]"
      ]
     },
     "execution_count": 3,
     "metadata": {},
     "output_type": "execute_result"
    }
   ],
   "source": [
    "p2p_data.head()"
   ]
  },
  {
   "cell_type": "code",
   "execution_count": 4,
   "metadata": {},
   "outputs": [],
   "source": [
    "X = p2p_data.drop(\"status\",axis=1)\n",
    "y = p2p_data[\"status\"]"
   ]
  },
  {
   "cell_type": "code",
   "execution_count": 5,
   "metadata": {},
   "outputs": [
    {
     "data": {
      "text/plain": [
       "DecisionTreeClassifier(criterion='entropy')"
      ]
     },
     "execution_count": 5,
     "metadata": {},
     "output_type": "execute_result"
    }
   ],
   "source": [
    "\n",
    "X_train, X_test, y_train, y_test = train_test_split(X, y, test_size=0.33, random_state=0)\n",
    "clf = tree.DecisionTreeClassifier(criterion='entropy', splitter='best', ) \n",
    "clf.fit(X=X_train, y=y_train)"
   ]
  },
  {
   "cell_type": "code",
   "execution_count": 6,
   "metadata": {},
   "outputs": [],
   "source": [
    "import os\n",
    "os.environ[\"PATH\"] += os.pathsep + 'D:/Program Files (x86)/Graphviz2.38/bin/'"
   ]
  },
  {
   "cell_type": "code",
   "execution_count": 7,
   "metadata": {},
   "outputs": [
    {
     "name": "stdout",
     "output_type": "stream",
     "text": [
      "\n",
      "The target test data set is:\n",
      " 928      1\n",
      "8848     0\n",
      "12383    0\n",
      "8237     0\n",
      "10986    0\n",
      "        ..\n",
      "13690    0\n",
      "13540    0\n",
      "1959     0\n",
      "10725    0\n",
      "6760     0\n",
      "Name: status, Length: 4965, dtype: int64\n",
      "\n",
      "The predicted result is:\n",
      " [0 0 0 ... 0 0 0]\n",
      "\n",
      "Accuracy rate is:\n",
      " 0.8702920443101712\n"
     ]
    },
    {
     "data": {
      "text/plain": [
       "'p2p_decision tree.pdf'"
      ]
     },
     "execution_count": 7,
     "metadata": {},
     "output_type": "execute_result"
    }
   ],
   "source": [
    "# make prediction \n",
    "print('\\nThe target test data set is:\\n', y_test) \n",
    "print('\\nThe predicted result is:\\n', clf.predict(X_test)) \n",
    "print('\\nAccuracy rate is:\\n',acc_rate(y_test, clf.predict(X_test))) \n",
    "# visualizing the tree \n",
    "dot_data = tree.export_graphviz(clf, out_file=None,feature_names=list(X_train.columns.values), class_names=list(\"status\"), filled=True, rounded=True, impurity=False, special_characters=True) \n",
    "graph = graphviz.Source(dot_data) \n",
    "graph.render(\"p2p_decision tree\") "
   ]
  },
  {
   "cell_type": "markdown",
   "metadata": {},
   "source": [
    "# Decision Tree for mnist data"
   ]
  },
  {
   "cell_type": "code",
   "execution_count": 8,
   "metadata": {},
   "outputs": [],
   "source": [
    "import tensorflow as tf \n",
    "(train_x, train_y), (test_x, test_y) = tf.keras.datasets.mnist.load_data(path='mnist.npz')\n"
   ]
  },
  {
   "cell_type": "code",
   "execution_count": 9,
   "metadata": {},
   "outputs": [
    {
     "data": {
      "text/plain": [
       "(60000, 28, 28)"
      ]
     },
     "execution_count": 9,
     "metadata": {},
     "output_type": "execute_result"
    }
   ],
   "source": [
    "train_x.shape"
   ]
  },
  {
   "cell_type": "code",
   "execution_count": 10,
   "metadata": {},
   "outputs": [
    {
     "data": {
      "text/plain": [
       "(10000, 28, 28)"
      ]
     },
     "execution_count": 10,
     "metadata": {},
     "output_type": "execute_result"
    }
   ],
   "source": [
    "test_x.shape"
   ]
  },
  {
   "cell_type": "code",
   "execution_count": 11,
   "metadata": {},
   "outputs": [
    {
     "data": {
      "text/plain": [
       "DecisionTreeClassifier(criterion='entropy')"
      ]
     },
     "execution_count": 11,
     "metadata": {},
     "output_type": "execute_result"
    }
   ],
   "source": [
    "train_x = train_x.reshape(60000,28*28)\n",
    "test_x = test_x.reshape(10000,28*28)\n",
    "clf = tree.DecisionTreeClassifier(criterion='entropy',splitter='best')\n",
    "clf.fit(X=train_x, y=train_y)"
   ]
  },
  {
   "cell_type": "code",
   "execution_count": 12,
   "metadata": {},
   "outputs": [
    {
     "name": "stdout",
     "output_type": "stream",
     "text": [
      "\n",
      "The target test data set is:\n",
      " [[0 0 0 ... 0 0 0]\n",
      " [0 0 0 ... 0 0 0]\n",
      " [0 0 0 ... 0 0 0]\n",
      " ...\n",
      " [0 0 0 ... 0 0 0]\n",
      " [0 0 0 ... 0 0 0]\n",
      " [0 0 0 ... 0 0 0]]\n",
      "\n",
      "The predicted result is:\n",
      " [7 8 1 ... 4 6 6]\n",
      "\n",
      "Accuracy rate is:\n",
      " 0.8849\n"
     ]
    },
    {
     "data": {
      "text/plain": [
       "'mnist.pdf'"
      ]
     },
     "execution_count": 12,
     "metadata": {},
     "output_type": "execute_result"
    }
   ],
   "source": [
    "print('\\nThe target test data set is:\\n', test_x)\n",
    "print('\\nThe predicted result is:\\n', clf.predict(test_x))\n",
    "print('\\nAccuracy rate is:\\n', acc_rate(test_y, clf.predict(test_x)))\n",
    "dot_data = tree.export_graphviz(clf,\n",
    "                                filled=True,\n",
    "                                rounded=True,\n",
    "                                impurity=False,\n",
    "                                special_characters=True)\n",
    "graph = graphviz.Source(dot_data)\n",
    "graph.render(\"mnist\", view = True)"
   ]
  },
  {
   "cell_type": "code",
   "execution_count": 13,
   "metadata": {},
   "outputs": [
    {
     "name": "stdout",
     "output_type": "stream",
     "text": [
      "\n",
      "The target test data set is:\n",
      " [[0 0 0 ... 0 0 0]\n",
      " [0 0 0 ... 0 0 0]\n",
      " [0 0 0 ... 0 0 0]\n",
      " ...\n",
      " [0 0 0 ... 0 0 0]\n",
      " [0 0 0 ... 0 0 0]\n",
      " [0 0 0 ... 0 0 0]]\n",
      "\n",
      "The predicted result is:\n",
      " [7 2 1 ... 4 5 6]\n",
      "\n",
      "Accuracy rate is:\n",
      " 0.8796\n"
     ]
    },
    {
     "data": {
      "text/plain": [
       "'mnist1.pdf'"
      ]
     },
     "execution_count": 13,
     "metadata": {},
     "output_type": "execute_result"
    }
   ],
   "source": [
    "train_x = train_x.reshape(60000,28*28)\n",
    "test_x = test_x.reshape(10000,28*28)\n",
    "clf = tree.DecisionTreeClassifier(criterion='gini',splitter='best')\n",
    "clf.fit(X=train_x, y=train_y)\n",
    "print('\\nThe target test data set is:\\n', test_x)\n",
    "print('\\nThe predicted result is:\\n', clf.predict(test_x))\n",
    "print('\\nAccuracy rate is:\\n', acc_rate(test_y, clf.predict(test_x)))\n",
    "dot_data = tree.export_graphviz(clf,\n",
    "                                filled=True,\n",
    "                                rounded=True,\n",
    "                                impurity=False,\n",
    "                                special_characters=True)\n",
    "graph = graphviz.Source(dot_data)\n",
    "graph.render(\"mnist1\", view = True)"
   ]
  },
  {
   "cell_type": "code",
   "execution_count": null,
   "metadata": {},
   "outputs": [],
   "source": []
  }
 ],
 "metadata": {
  "kernelspec": {
   "display_name": "Python 3",
   "language": "python",
   "name": "python3"
  },
  "language_info": {
   "codemirror_mode": {
    "name": "ipython",
    "version": 3
   },
   "file_extension": ".py",
   "mimetype": "text/x-python",
   "name": "python",
   "nbconvert_exporter": "python",
   "pygments_lexer": "ipython3",
   "version": "3.8.5"
  }
 },
 "nbformat": 4,
 "nbformat_minor": 5
}
